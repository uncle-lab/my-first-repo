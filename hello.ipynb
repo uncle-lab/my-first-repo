{
 "cells": [
  {
   "cell_type": "markdown",
   "id": "3ebd91fb",
   "metadata": {},
   "source": [
    "# 第一个Python程序\n",
    "\n",
    "### 变量名 = 表达式\n",
    "### 定义一个变量，并且给变量赋值，“=”就是赋值运算符 \n",
    "### 变量名的命名规则：以字母、下划线开头，后面跟随字母、下划线、数字\n",
    "### 变量名不能和保留字|关键字相同\n",
    "### 变量名最好是顾名思义的\n",
    "\n",
    "\n",
    "### print()是一个函数，print函数的作用就是将参数中的数据在屏幕上显示出来\n",
    "\n"
   ]
  },
  {
   "cell_type": "code",
   "execution_count": 1,
   "id": "73c0caa1",
   "metadata": {},
   "outputs": [
    {
     "name": "stdout",
     "output_type": "stream",
     "text": [
      "Hello,World\n"
     ]
    }
   ],
   "source": [
    "info = \"Hello,World\" \n",
    "print(info)"
   ]
  }
 ],
 "metadata": {
  "kernelspec": {
   "display_name": "Python 3 (ipykernel)",
   "language": "python",
   "name": "python3"
  },
  "language_info": {
   "codemirror_mode": {
    "name": "ipython",
    "version": 3
   },
   "file_extension": ".py",
   "mimetype": "text/x-python",
   "name": "python",
   "nbconvert_exporter": "python",
   "pygments_lexer": "ipython3",
   "version": "3.9.13"
  }
 },
 "nbformat": 4,
 "nbformat_minor": 5
}
